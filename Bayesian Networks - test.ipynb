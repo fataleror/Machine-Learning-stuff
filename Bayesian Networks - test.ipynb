{
 "cells": [
  {
   "cell_type": "code",
   "execution_count": 1,
   "metadata": {},
   "outputs": [],
   "source": [
    "from pgmpy.factors.discrete import TabularCPD"
   ]
  },
  {
   "cell_type": "code",
   "execution_count": 2,
   "metadata": {},
   "outputs": [],
   "source": [
    "from pgmpy.models import BayesianModel"
   ]
  },
  {
   "cell_type": "code",
   "execution_count": 3,
   "metadata": {},
   "outputs": [],
   "source": [
    "olympic_model = BayesianModel([('Genetics', 'Olympic_Trials'), ('Practice', 'Olympic_Trials'), ('Olympic_Trials', 'Offer')])"
   ]
  },
  {
   "cell_type": "code",
   "execution_count": 11,
   "metadata": {},
   "outputs": [],
   "source": [
    "genetics_cpd = TabularCPD(\n",
    "                variable='Genetics',\n",
    "                variable_card = 2,\n",
    "                values = [[.2, .8]])"
   ]
  },
  {
   "cell_type": "code",
   "execution_count": 14,
   "metadata": {},
   "outputs": [],
   "source": [
    "practice_cpd = TabularCPD(\n",
    "                variable='Practice',\n",
    "                variable_card = 2,\n",
    "                values = [[.7, .3]])"
   ]
  },
  {
   "cell_type": "code",
   "execution_count": 18,
   "metadata": {},
   "outputs": [],
   "source": [
    "offer_cpd = TabularCPD(\n",
    "                variable='Offer',\n",
    "                variable_card = 2,\n",
    "                values = [[.95, .8, .5],\n",
    "                         [.05, .2, .5]],\n",
    "                evidence = ['Olympic_Trials'],\n",
    "                evidence_card = [3])"
   ]
  },
  {
   "cell_type": "code",
   "execution_count": 33,
   "metadata": {},
   "outputs": [],
   "source": [
    "olympic_trials_cpd = TabularCPD(\n",
    "                variable='Olympic_Trials',\n",
    "                variable_card = 3,\n",
    "                values = [[.5, .8, .8, .9],\n",
    "                          [.3, .15, .1, .08],\n",
    "                          [.2, .05, .1, .02]],\n",
    "                evidence = ['Genetics', 'Practice'],\n",
    "                evidence_card = [2,2])"
   ]
  },
  {
   "cell_type": "code",
   "execution_count": 34,
   "metadata": {},
   "outputs": [
    {
     "name": "stderr",
     "output_type": "stream",
     "text": [
      "WARNING:root:Replacing existing CPD for Genetics\n",
      "WARNING:root:Replacing existing CPD for Practice\n",
      "WARNING:root:Replacing existing CPD for Offer\n",
      "WARNING:root:Replacing existing CPD for Olympic_Trials\n"
     ]
    }
   ],
   "source": [
    "olympic_model.add_cpds(genetics_cpd, practice_cpd, offer_cpd, olympic_trials_cpd)"
   ]
  },
  {
   "cell_type": "code",
   "execution_count": 35,
   "metadata": {},
   "outputs": [
    {
     "data": {
      "text/plain": [
       "[<TabularCPD representing P(Genetics:2) at 0x2077ff1b688>,\n",
       " <TabularCPD representing P(Practice:2) at 0x2077ff21448>,\n",
       " <TabularCPD representing P(Offer:2 | Olympic_Trials:3) at 0x2077ff2adc8>,\n",
       " <TabularCPD representing P(Olympic_Trials:3 | Genetics:2, Practice:2) at 0x2077ff687c8>]"
      ]
     },
     "execution_count": 35,
     "metadata": {},
     "output_type": "execute_result"
    }
   ],
   "source": [
    "olympic_model.get_cpds()"
   ]
  },
  {
   "cell_type": "code",
   "execution_count": 36,
   "metadata": {},
   "outputs": [
    {
     "data": {
      "text/plain": [
       "{'Genetics': {'Genetics', 'Offer', 'Olympic_Trials'}}"
      ]
     },
     "execution_count": 36,
     "metadata": {},
     "output_type": "execute_result"
    }
   ],
   "source": [
    "olympic_model.active_trail_nodes('Genetics')"
   ]
  },
  {
   "cell_type": "code",
   "execution_count": 37,
   "metadata": {},
   "outputs": [
    {
     "data": {
      "text/plain": [
       "{'Olympic_Trials': {'Genetics', 'Offer', 'Olympic_Trials', 'Practice'}}"
      ]
     },
     "execution_count": 37,
     "metadata": {},
     "output_type": "execute_result"
    }
   ],
   "source": [
    "olympic_model.active_trail_nodes('Olympic_Trials')"
   ]
  },
  {
   "cell_type": "code",
   "execution_count": 38,
   "metadata": {},
   "outputs": [
    {
     "data": {
      "text/plain": [
       "(Genetics _|_ Practice)"
      ]
     },
     "execution_count": 38,
     "metadata": {},
     "output_type": "execute_result"
    }
   ],
   "source": [
    "olympic_model.local_independencies('Genetics')"
   ]
  },
  {
   "cell_type": "code",
   "execution_count": 39,
   "metadata": {},
   "outputs": [
    {
     "data": {
      "text/plain": []
     },
     "execution_count": 39,
     "metadata": {},
     "output_type": "execute_result"
    }
   ],
   "source": [
    "olympic_model.local_independencies('Olympic_Trials')"
   ]
  },
  {
   "cell_type": "code",
   "execution_count": 40,
   "metadata": {},
   "outputs": [
    {
     "data": {
      "text/plain": [
       "(Genetics _|_ Practice)\n",
       "(Genetics _|_ Offer | Olympic_Trials)\n",
       "(Genetics _|_ Offer | Olympic_Trials, Practice)\n",
       "(Practice _|_ Genetics)\n",
       "(Practice _|_ Offer | Olympic_Trials)\n",
       "(Practice _|_ Offer | Genetics, Olympic_Trials)\n",
       "(Offer _|_ Genetics, Practice | Olympic_Trials)\n",
       "(Offer _|_ Practice | Genetics, Olympic_Trials)\n",
       "(Offer _|_ Genetics | Olympic_Trials, Practice)"
      ]
     },
     "execution_count": 40,
     "metadata": {},
     "output_type": "execute_result"
    }
   ],
   "source": [
    "olympic_model.get_independencies()"
   ]
  },
  {
   "cell_type": "code",
   "execution_count": 41,
   "metadata": {},
   "outputs": [],
   "source": [
    "from pgmpy.inference import VariableElimination"
   ]
  },
  {
   "cell_type": "code",
   "execution_count": 42,
   "metadata": {},
   "outputs": [],
   "source": [
    "olympic_infer = VariableElimination(olympic_model)"
   ]
  },
  {
   "cell_type": "code",
   "execution_count": 64,
   "metadata": {},
   "outputs": [
    {
     "name": "stderr",
     "output_type": "stream",
     "text": [
      "Finding Elimination Order: : 100%|██████████| 2/2 [00:00<00:00, 1997.76it/s]\n",
      "Eliminating: Practice: 100%|██████████| 2/2 [00:00<00:00, 995.56it/s]\n"
     ]
    },
    {
     "name": "stdout",
     "output_type": "stream",
     "text": [
      "+-------------+----------+-----------------------+\n",
      "| Genetics    | Offer    |   phi(Genetics,Offer) |\n",
      "+=============+==========+=======================+\n",
      "| Genetics(0) | Offer(0) |                0.1684 |\n",
      "+-------------+----------+-----------------------+\n",
      "| Genetics(0) | Offer(1) |                0.0316 |\n",
      "+-------------+----------+-----------------------+\n",
      "| Genetics(1) | Offer(0) |                0.7214 |\n",
      "+-------------+----------+-----------------------+\n",
      "| Genetics(1) | Offer(1) |                0.0786 |\n",
      "+-------------+----------+-----------------------+\n"
     ]
    }
   ],
   "source": [
    "prob_offer = olympic_infer.query(variables = ['Offer', 'Genetics'])\n",
    "print(prob_offer)"
   ]
  },
  {
   "cell_type": "code",
   "execution_count": 63,
   "metadata": {},
   "outputs": [
    {
     "name": "stderr",
     "output_type": "stream",
     "text": [
      "Finding Elimination Order: : 100%|██████████| 2/2 [00:00<00:00, 2015.52it/s]\n",
      "Eliminating: Practice: 100%|██████████| 2/2 [00:00<00:00, 2012.62it/s]\n"
     ]
    },
    {
     "name": "stdout",
     "output_type": "stream",
     "text": [
      "+----------+--------------+\n",
      "| Offer    |   phi(Offer) |\n",
      "+==========+==============+\n",
      "| Offer(0) |       0.8420 |\n",
      "+----------+--------------+\n",
      "| Offer(1) |       0.1580 |\n",
      "+----------+--------------+\n"
     ]
    }
   ],
   "source": [
    "prob_offer_good_genes = olympic_infer.query(variables = ['Offer'], \n",
    "                                            evidence = {'Genetics':0})\n",
    "print (prob_offer_good_genes)"
   ]
  },
  {
   "cell_type": "code",
   "execution_count": 66,
   "metadata": {},
   "outputs": [
    {
     "name": "stderr",
     "output_type": "stream",
     "text": [
      "Finding Elimination Order: : 100%|██████████| 1/1 [00:00<00:00, 998.41it/s]\n",
      "Eliminating: Olympic_Trials: 100%|██████████| 1/1 [00:00<00:00, 998.88it/s]\n"
     ]
    },
    {
     "name": "stdout",
     "output_type": "stream",
     "text": [
      "+----------+--------------+\n",
      "| Offer    |   phi(Offer) |\n",
      "+==========+==============+\n",
      "| Offer(0) |       0.9290 |\n",
      "+----------+--------------+\n",
      "| Offer(1) |       0.0710 |\n",
      "+----------+--------------+\n"
     ]
    }
   ],
   "source": [
    "prob_offer_good_genes = olympic_infer.query(variables = ['Offer'], \n",
    "                                            evidence = {'Genetics':1, 'Practice':1})\n",
    "print (prob_offer_good_genes)"
   ]
  },
  {
   "cell_type": "code",
   "execution_count": 70,
   "metadata": {},
   "outputs": [
    {
     "name": "stderr",
     "output_type": "stream",
     "text": [
      "Finding Elimination Order: : 100%|██████████| 1/1 [00:00<00:00, 999.12it/s]\n",
      "Eliminating: Offer: 100%|██████████| 1/1 [00:00<00:00, 998.88it/s]\n"
     ]
    },
    {
     "name": "stdout",
     "output_type": "stream",
     "text": [
      "+-------------+-----------------+\n",
      "| Genetics    |   phi(Genetics) |\n",
      "+=============+=================+\n",
      "| Genetics(0) |          0.3333 |\n",
      "+-------------+-----------------+\n",
      "| Genetics(1) |          0.6667 |\n",
      "+-------------+-----------------+\n"
     ]
    }
   ],
   "source": [
    "prob_good_genes_amazing_olympic_trials = olympic_infer.query(variables = ['Genetics'], \n",
    "                                            evidence = {'Olympic_Trials':2, 'Practice':0})\n",
    "print (prob_good_genes_amazing_olympic_trials)"
   ]
  },
  {
   "cell_type": "code",
   "execution_count": 72,
   "metadata": {},
   "outputs": [
    {
     "name": "stderr",
     "output_type": "stream",
     "text": [
      "Finding Elimination Order: : 100%|██████████| 2/2 [00:00<?, ?it/s]\n",
      "Eliminating: Offer: 100%|██████████| 2/2 [00:00<00:00, 999.12it/s]\n"
     ]
    },
    {
     "name": "stdout",
     "output_type": "stream",
     "text": [
      "+-------------+-----------------+\n",
      "| Genetics    |   phi(Genetics) |\n",
      "+=============+=================+\n",
      "| Genetics(0) |          0.2000 |\n",
      "+-------------+-----------------+\n",
      "| Genetics(1) |          0.8000 |\n",
      "+-------------+-----------------+\n"
     ]
    }
   ],
   "source": [
    "prob_good_genes_no_practice = olympic_infer.query(variables = ['Genetics'], \n",
    "                                            evidence = {'Practice':1})\n",
    "print (prob_good_genes_no_practice)"
   ]
  },
  {
   "cell_type": "code",
   "execution_count": 73,
   "metadata": {},
   "outputs": [
    {
     "name": "stderr",
     "output_type": "stream",
     "text": [
      "Finding Elimination Order: : 100%|██████████| 3/3 [00:00<?, ?it/s]\n",
      "Eliminating: Practice: 100%|██████████| 3/3 [00:00<00:00, 1498.68it/s]\n"
     ]
    },
    {
     "data": {
      "text/plain": [
       "{'Genetics': 1}"
      ]
     },
     "execution_count": 73,
     "metadata": {},
     "output_type": "execute_result"
    }
   ],
   "source": [
    "olympic_infer.map_query(variables=['Genetics'])"
   ]
  },
  {
   "cell_type": "code",
   "execution_count": 74,
   "metadata": {},
   "outputs": [
    {
     "name": "stderr",
     "output_type": "stream",
     "text": [
      "Finding Elimination Order: : 100%|██████████| 3/3 [00:00<00:00, 3000.22it/s]\n",
      "Eliminating: Practice: 100%|██████████| 3/3 [00:00<00:00, 1498.86it/s]\n"
     ]
    },
    {
     "data": {
      "text/plain": [
       "{'Offer': 0}"
      ]
     },
     "execution_count": 74,
     "metadata": {},
     "output_type": "execute_result"
    }
   ],
   "source": [
    "olympic_infer.map_query(variables=['Offer'])"
   ]
  },
  {
   "cell_type": "code",
   "execution_count": 81,
   "metadata": {},
   "outputs": [
    {
     "name": "stderr",
     "output_type": "stream",
     "text": [
      "Finding Elimination Order: : 100%|██████████| 1/1 [00:00<00:00, 999.36it/s]\n",
      "Eliminating: Offer: 100%|██████████| 1/1 [00:00<00:00, 998.64it/s]\n"
     ]
    },
    {
     "data": {
      "text/plain": [
       "{'Olympic_Trials': 0}"
      ]
     },
     "execution_count": 81,
     "metadata": {},
     "output_type": "execute_result"
    }
   ],
   "source": [
    "olympic_infer.map_query(variables=['Olympic_Trials'], evidence = {'Genetics':0, 'Practice':0})"
   ]
  },
  {
   "cell_type": "code",
   "execution_count": 76,
   "metadata": {},
   "outputs": [
    {
     "name": "stdout",
     "output_type": "stream",
     "text": [
      "Help on method map_query in module pgmpy.inference.ExactInference:\n",
      "\n",
      "map_query(variables=None, evidence=None, elimination_order='MinFill', show_progress=True) method of pgmpy.inference.ExactInference.VariableElimination instance\n",
      "    Computes the MAP Query over the variables given the evidence.\n",
      "    \n",
      "    Note: When multiple variables are passed, it returns the map_query for each\n",
      "    of them individually.\n",
      "    \n",
      "    Parameters\n",
      "    ----------\n",
      "    variables: list\n",
      "        list of variables over which we want to compute the max-marginal.\n",
      "    evidence: dict\n",
      "        a dict key, value pair as {var: state_of_var_observed}\n",
      "        None if no evidence\n",
      "    elimination_order: list\n",
      "        order of variable eliminations (if nothing is provided) order is\n",
      "        computed automatically\n",
      "    \n",
      "    Examples\n",
      "    --------\n",
      "    >>> from pgmpy.inference import VariableElimination\n",
      "    >>> from pgmpy.models import BayesianModel\n",
      "    >>> import numpy as np\n",
      "    >>> import pandas as pd\n",
      "    >>> values = pd.DataFrame(np.random.randint(low=0, high=2, size=(1000, 5)),\n",
      "    ...                       columns=['A', 'B', 'C', 'D', 'E'])\n",
      "    >>> model = BayesianModel([('A', 'B'), ('C', 'B'), ('C', 'D'), ('B', 'E')])\n",
      "    >>> model.fit(values)\n",
      "    >>> inference = VariableElimination(model)\n",
      "    >>> phi_query = inference.map_query(['A', 'B'])\n",
      "\n"
     ]
    }
   ],
   "source": [
    "help(olympic_infer.map_query)"
   ]
  },
  {
   "cell_type": "code",
   "execution_count": null,
   "metadata": {},
   "outputs": [],
   "source": []
  }
 ],
 "metadata": {
  "kernelspec": {
   "display_name": "Python 3",
   "language": "python",
   "name": "python3"
  },
  "language_info": {
   "codemirror_mode": {
    "name": "ipython",
    "version": 3
   },
   "file_extension": ".py",
   "mimetype": "text/x-python",
   "name": "python",
   "nbconvert_exporter": "python",
   "pygments_lexer": "ipython3",
   "version": "3.7.7"
  }
 },
 "nbformat": 4,
 "nbformat_minor": 2
}
