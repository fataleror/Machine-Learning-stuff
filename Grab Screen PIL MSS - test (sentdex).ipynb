{
 "cells": [
  {
   "cell_type": "code",
   "execution_count": 6,
   "metadata": {},
   "outputs": [],
   "source": [
    "import time\n",
    "import cv2\n",
    "import mss\n",
    "import numpy\n",
    "from PIL import ImageGrab\n",
    "from grabscreen import grab_screen"
   ]
  },
  {
   "cell_type": "code",
   "execution_count": 43,
   "metadata": {},
   "outputs": [],
   "source": [
    "# title of our window\n",
    "title = \"Pirates! Capture\"\n",
    "# set start time to current time\n",
    "start_time = time.time()\n",
    "# displays the frame rate every 2 second\n",
    "display_time = 2\n",
    "# Set primarry FPS to 0\n",
    "fps = 0\n",
    "# Load mss library as sct\n",
    "sct = mss.mss()\n",
    "# Set monitor size to capture to MSS\n",
    "monitor = {\"top\": 0, \"left\": 0, \"width\": 1920, \"height\": 1080}\n",
    "# Set monitor size to capture\n",
    "mon = (0, 0, 800, 640)"
   ]
  },
  {
   "cell_type": "code",
   "execution_count": 37,
   "metadata": {},
   "outputs": [],
   "source": [
    "def screen_recordPIL():\n",
    "    # set variables as global, that we could change them\n",
    "    global fps, start_time\n",
    "    # begin our loop\n",
    "    while True:\n",
    "        # Get raw pixels from the screen, save it to a Numpy array\n",
    "        img = numpy.asarray(ImageGrab.grab(bbox=mon))\n",
    "#         print(img)\n",
    "#         print(img.shape)\n",
    "#         print('########################################################################')\n",
    "        # Display the picture\n",
    "        cv2.imshow(title, cv2.cvtColor(img, cv2.COLOR_BGR2RGB))\n",
    "        # add one to fps\n",
    "        fps+=1\n",
    "        # calculate time difference\n",
    "        TIME = time.time() - start_time\n",
    "#         check if our 2 seconds passed\n",
    "        if (TIME) >= display_time :\n",
    "            print(\"FPS: \", fps / (TIME))\n",
    "            # set fps again to zero\n",
    "            fps = 0\n",
    "            # set start time to current time again\n",
    "            start_time = time.time()\n",
    "        # Press \"q\" to quit\n",
    "        if cv2.waitKey(25) & 0xFF == ord(\"q\"):\n",
    "            cv2.destroyAllWindows()\n",
    "            break"
   ]
  },
  {
   "cell_type": "code",
   "execution_count": 39,
   "metadata": {},
   "outputs": [],
   "source": [
    "def screen_grab():\n",
    "    global fps, start_time\n",
    "    while True:\n",
    "        # Get raw pixels from the screen \n",
    "        img = grab_screen(region=mon)\n",
    "        # Display the picture\n",
    "        cv2.imshow(title, cv2.cvtColor(img, cv2.COLOR_BGR2RGB))\n",
    "        fps+=1\n",
    "        TIME = time.time() - start_time\n",
    "        if (TIME) >= display_time :\n",
    "            print(\"FPS: \", fps / (TIME))\n",
    "            fps = 0\n",
    "            start_time = time.time()\n",
    "        # Press \"q\" to quit\n",
    "        if cv2.waitKey(25) & 0xFF == ord(\"q\"):\n",
    "            cv2.destroyAllWindows()\n",
    "            break"
   ]
  },
  {
   "cell_type": "code",
   "execution_count": 41,
   "metadata": {},
   "outputs": [],
   "source": [
    "def screen_recordMSS():\n",
    "    global fps, start_time\n",
    "    while True:\n",
    "        # Get raw pixels from the screen, save it to a Numpy array\n",
    "        img = numpy.array(sct.grab(monitor))\n",
    "        # to get real color we do this:\n",
    "        img = cv2.cvtColor(img, cv2.COLOR_BGR2RGB)\n",
    "        cv2.imshow(title, cv2.cvtColor(img, cv2.COLOR_BGR2RGB))\n",
    "        fps+=1\n",
    "        TIME = time.time() - start_time\n",
    "        if (TIME) >= display_time :\n",
    "            print(\"FPS: \", fps / (TIME))\n",
    "            fps = 0\n",
    "            start_time = time.time()\n",
    "        # Press \"q\" to quit\n",
    "        if cv2.waitKey(25) & 0xFF == ord(\"q\"):\n",
    "            cv2.destroyAllWindows()\n",
    "            break"
   ]
  },
  {
   "cell_type": "code",
   "execution_count": null,
   "metadata": {},
   "outputs": [],
   "source": []
  }
 ],
 "metadata": {
  "kernelspec": {
   "display_name": "Python 3",
   "language": "python",
   "name": "python3"
  },
  "language_info": {
   "codemirror_mode": {
    "name": "ipython",
    "version": 3
   },
   "file_extension": ".py",
   "mimetype": "text/x-python",
   "name": "python",
   "nbconvert_exporter": "python",
   "pygments_lexer": "ipython3",
   "version": "3.7.7"
  }
 },
 "nbformat": 4,
 "nbformat_minor": 4
}
